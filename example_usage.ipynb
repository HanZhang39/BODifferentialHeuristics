{
 "cells": [
  {
   "cell_type": "code",
   "execution_count": null,
   "id": "4077c9ef",
   "metadata": {},
   "outputs": [],
   "source": [
    "import os"
   ]
  },
  {
   "cell_type": "code",
   "execution_count": null,
   "id": "a289e1ff",
   "metadata": {},
   "outputs": [],
   "source": [
    "target_folder = \"NY\"\n",
    "num_landmarks = 32\n",
    "if not os.path.isdir(\"NY\"):\n",
    "    os.mkdir(\"NY\")\n",
    "    \n",
    "with open(\"assets/landmarks/landmarks_NY.txt\", \"rt\") as f:\n",
    "    landmarks = [int(l) for l in f.readlines()]"
   ]
  },
  {
   "cell_type": "markdown",
   "id": "a4de9f1e",
   "metadata": {},
   "source": [
    "# Preprocessing"
   ]
  },
  {
   "cell_type": "code",
   "execution_count": null,
   "id": "d072d608",
   "metadata": {},
   "outputs": [],
   "source": [
    "# Running BOD from each landmark\n",
    "# This can take a large amount of time to run...\n",
    "# Download USA-roadd-d.NY.gr and USA-road-t.NY.gr from http://dimacs.rutgers.edu/programs/challenge/\n",
    "for l in landmarks[:num_landmarks]:\n",
    "    os.system(f\"./bin/bod --start {l} --map resources/dataset/USA-road-d.NY.gr resources/dataset/USA-road-t.NY.gr -o {target_folder}/pf_{l}.txt -a BOD -t 1000\")\n",
    "    "
   ]
  },
  {
   "cell_type": "code",
   "execution_count": null,
   "id": "e75b2e91",
   "metadata": {},
   "outputs": [],
   "source": [
    "# Compressing the DH\n",
    "apex_files = []\n",
    "path_files= []\n",
    "for l in landmarks[:num_landmarks]:\n",
    "    apex_file = f\"{target_folder}/apex_{l}_001.txt\"\n",
    "    path_file = f\"{target_folder}/path_{l}_001.txt\"\n",
    "    os.system(f\"./bin/compress -i {target_folder}/pf_{l}.txt -e 0.01 -o {apex_file}  -p {path_file}\")\n",
    "    apex_files.append(apex_file)\n",
    "    path_files.append(path_file)\n",
    "    \n",
    "with open(\"apex_NY.txt\", \"wt\") as f: \n",
    "    f.write(\"\\n\".join(apex_files))\n",
    "with open(\"path_NY.txt\", \"wt\") as f: \n",
    "    f.write(\"\\n\".join(path_files))"
   ]
  },
  {
   "cell_type": "markdown",
   "id": "78634d8b",
   "metadata": {},
   "source": [
    "# run experiment"
   ]
  },
  {
   "cell_type": "code",
   "execution_count": null,
   "id": "683e0266",
   "metadata": {},
   "outputs": [],
   "source": [
    "os.system(f\"./bin/solver_dh -q ./assets/instances/NY_query.txt -m resources/dataset/USA-road-d.NY.gr resources/dataset/USA-road-t.NY.gr -o ./output_dh.txt --dh apex_NY.txt --dhp path_NY.txt --nl {num_landmarks} --update_interval 500 --update_threshold 0.001\")\n",
    "os.system(\"./bin/solver -q ./assets/instances/NY_query.txt -m resources/dataset/USA-road-d.NY.gr resources/dataset/USA-road-t.NY.gr -o ./output.txt -a NAMOA\")"
   ]
  }
 ],
 "metadata": {
  "kernelspec": {
   "display_name": "Python 3 (ipykernel)",
   "language": "python",
   "name": "python3"
  },
  "language_info": {
   "codemirror_mode": {
    "name": "ipython",
    "version": 3
   },
   "file_extension": ".py",
   "mimetype": "text/x-python",
   "name": "python",
   "nbconvert_exporter": "python",
   "pygments_lexer": "ipython3",
   "version": "3.9.7"
  }
 },
 "nbformat": 4,
 "nbformat_minor": 5
}
